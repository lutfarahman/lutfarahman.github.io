{
 "cells": [
  {
   "cell_type": "markdown",
   "id": "28579832",
   "metadata": {},
   "source": [
    "#### Task 1: encoding "
   ]
  },
  {
   "cell_type": "code",
   "execution_count": 6,
   "id": "1839c36e",
   "metadata": {},
   "outputs": [
    {
     "data": {
      "text/plain": [
       "'111000111000111111000000111'"
      ]
     },
     "execution_count": 6,
     "metadata": {},
     "output_type": "execute_result"
    }
   ],
   "source": [
    "#repetition_encode function takes the message as argument and returns the encoded version of it.\n",
    "def repetition_encode(message):     \n",
    "    \n",
    "    #result contains the encoded message\n",
    "    result = ''                     \n",
    "    \n",
    "    for i in range(len(message)):  #loop through the length of the string 'message'\n",
    "             \n",
    "        if message[i] == '0':     #If the string is '0' then encode it to '000'\n",
    "            result += '000'\n",
    "        elif message[i] == '1':  #If the string is '1' then encode it to '111'          \n",
    "            result += '111'\n",
    "        \n",
    "        \n",
    "    #result = print(encode)\n",
    "    return result    \n",
    "    \n",
    "repetition_encode('101011001')\n",
    "\n",
    "# '' in the output represents that it's actually a string. "
   ]
  },
  {
   "cell_type": "code",
   "execution_count": 7,
   "id": "f9814f37",
   "metadata": {},
   "outputs": [
    {
     "name": "stdout",
     "output_type": "stream",
     "text": [
      "k\n",
      "k\n",
      "k\n"
     ]
    }
   ],
   "source": [
    "for i in range(3):\n",
    "    print('k')"
   ]
  },
  {
   "cell_type": "markdown",
   "id": "97bae1a9",
   "metadata": {},
   "source": [
    "#### Task 2: Decoded message"
   ]
  },
  {
   "cell_type": "code",
   "execution_count": 8,
   "id": "35187f10",
   "metadata": {},
   "outputs": [
    {
     "data": {
      "text/plain": [
       "'00101'"
      ]
     },
     "execution_count": 8,
     "metadata": {},
     "output_type": "execute_result"
    }
   ],
   "source": [
    "def repetition_decode(received_message): #21.08.23\n",
    "    decode = '' \n",
    "    \n",
    "    for i in range(0,len(received_message),3):\n",
    "        string_chunk = received_message[i:i+3]\n",
    "        a = string_chunk.count('1')\n",
    "        if a>= 2:\n",
    "            decode+= '1'\n",
    "        else:\n",
    "            decode+= '0'\n",
    "            \n",
    "    return decode\n",
    "repetition_decode('100001110000110')       "
   ]
  },
  {
   "cell_type": "code",
   "execution_count": 9,
   "id": "d052c636",
   "metadata": {},
   "outputs": [
    {
     "name": "stdout",
     "output_type": "stream",
     "text": [
      "My name is Lutfa\n",
      "My name is Rajiv\n"
     ]
    }
   ],
   "source": [
    "name = 'Lutfa'\n",
    "print(f'My name is {name}')\n",
    "name = 'Rajiv'\n",
    "print(f'My name is {name}')"
   ]
  },
  {
   "cell_type": "code",
   "execution_count": 12,
   "id": "859d61f4",
   "metadata": {},
   "outputs": [
    {
     "name": "stdout",
     "output_type": "stream",
     "text": [
      "message = 10111\n",
      "encoded_message = 111000111111111\n",
      "corrupted_message = 011000111011111\n",
      "decoded_message = 10111\n",
      "Is message = decoded_message? True\n"
     ]
    }
   ],
   "source": [
    "from random import randint\n",
    "\n",
    "# these are the two parameters we need to set\n",
    "message_length = 5\n",
    "p = 0.1\n",
    "\n",
    "# create a random message\n",
    "message = ''.join([str(randint(0,1)) for i in range(message_length)])\n",
    "print('message =', message)\n",
    "\n",
    "# encode the message\n",
    "encoded_message = repetition_encode(message)\n",
    "print('encoded_message =', encoded_message)\n",
    "\n",
    "# send it through the noisy channel\n",
    "corrupted_message = ''\n",
    "for c in encoded_message:\n",
    "    \n",
    "    if random.random() < p: #random.random() creates floating number between 0.1-1.0\n",
    "        if c == '0':\n",
    "            corrupted_message += '1'\n",
    "        else:\n",
    "            corrupted_message += '0'\n",
    "    else:\n",
    "        corrupted_message += c\n",
    "print('corrupted_message =', corrupted_message)\n",
    "        \n",
    "# decode it\n",
    "decoded_message = repetition_decode(corrupted_message) #Whats going on? \n",
    "print('decoded_message =', decoded_message)\n",
    "print('Is message = decoded_message?', message == decoded_message)"
   ]
  },
  {
   "cell_type": "markdown",
   "id": "2097009b",
   "metadata": {},
   "source": [
    "#### Task 3-I: #Probability"
   ]
  },
  {
   "cell_type": "markdown",
   "id": "33b5e636",
   "metadata": {},
   "source": [
    "It should be (1-p)^3 + 3p(1-p)(1-p). The first one for all correct bits and second by majority \n",
    "voting"
   ]
  },
  {
   "cell_type": "markdown",
   "id": "d5a3d6f3",
   "metadata": {},
   "source": [
    "#### Task 3-II: Probability"
   ]
  },
  {
   "cell_type": "markdown",
   "id": "14261336",
   "metadata": {},
   "source": [
    "#Zero Error:\n",
    "(1-p)(1-p)(1-p) = (1-p)^3\n",
    "\n",
    "#One Errors:\n",
    " 3p(1-p)(1-p)\n",
    "    \n",
    "#Two errors:\n",
    " 3p^2(1-p)\n",
    "\n",
    "#Three errors:\n",
    "p^3 "
   ]
  },
  {
   "cell_type": "markdown",
   "id": "88eeffce",
   "metadata": {},
   "source": [
    "#### Task 4: Plots"
   ]
  },
  {
   "cell_type": "code",
   "execution_count": 8,
   "id": "222c0517",
   "metadata": {},
   "outputs": [
    {
     "data": {
      "image/png": "[encoded data removed]",
      "text/plain": [
       "<Figure size 360x360 with 1 Axes>"
      ]
     },
     "metadata": {
      "needs_background": "light"
     },
     "output_type": "display_data"
    }
   ],
   "source": [
    "import matplotlib.pyplot as plt\n",
    "import numpy as np\n",
    "\n",
    "# probability of error on transmitted bit\n",
    "p = np.linspace(0, 1, 100)\n",
    "# probability of incorrect inference by Bob\n",
    "pr_of_incorrect_inference = p \n",
    "_, ax = plt.subplots(figsize=(5, 5));\n",
    "ax.plot(p, pr_of_incorrect_inference);\n",
    "ax.set_xlabel('probability of error on transmitted bit');\n",
    "ax.set_ylabel('probability of incorrect inference by Bob');"
   ]
  },
  {
   "cell_type": "code",
   "execution_count": 1,
   "id": "52885440",
   "metadata": {},
   "outputs": [
    {
     "data": {
      "image/png": "[encoded data removed]",
      "text/plain": [
       "<Figure size 360x360 with 1 Axes>"
      ]
     },
     "metadata": {
      "needs_background": "light"
     },
     "output_type": "display_data"
    }
   ],
   "source": [
    "import matplotlib.pyplot as plt\n",
    "import numpy as np\n",
    "\n",
    "# probability of error on transmitted bit\n",
    "p = np.linspace(0, 1, 100)\n",
    "# probability of incorrect inference by Bob\n",
    "pr_of_incorrect_inference = p*p*p + 3*p*p*(1-p)\n",
    "\n",
    "pr_of_incorrect_inferen = p \n",
    "_, ax = plt.subplots(figsize=(5, 5));\n",
    "ax.plot(p, pr_of_incorrect_inference, label='with error correction'); \n",
    "\n",
    "\n",
    "ax.plot(p, pr_of_incorrect_inferen, label = 'without error correction' );\n",
    "\n",
    "\n",
    "# ax.plot(p, pr_of_incorrect_inference, label='with error correction'); \n",
    "\n",
    "ax.set_xlabel('probability of error on transmitted bit');\n",
    "ax.set_ylabel('probability of incorrect inference by Bob');\n",
    "plt.legend();"
   ]
  },
  {
   "cell_type": "markdown",
   "id": "87898ab9",
   "metadata": {},
   "source": [
    "Error Correction Code works better when the probability <0.5"
   ]
  },
  {
   "cell_type": "markdown",
   "id": "540aea41",
   "metadata": {},
   "source": [
    "#### Task 5: Logical Operation "
   ]
  },
  {
   "cell_type": "raw",
   "id": "60f51a52",
   "metadata": {},
   "source": [
    "i) Not gate. Since there are three bits, so first NOT gate will be applied to the first bit, whcih changes 000 to 100, then NOT gate will be applied to this output. That is 100 will be changed to 110 and so on. \n",
    "\n",
    "ii) We have two code blocks. (00) -> 000000. First assume that each 3 bits represents one bit. Then ORing them together. Like 000 + 000 ... this way. So, at first OR gate will be applied to the first bits of each block and so on. This way we will get 000. "
   ]
  },
  {
   "cell_type": "code",
   "execution_count": null,
   "id": "e86c8525",
   "metadata": {},
   "outputs": [],
   "source": [
    "010 OR 001 = 011 -> 1"
   ]
  }
 ],
 "metadata": {
  "kernelspec": {
   "display_name": "Python 3 (ipykernel)",
   "language": "python",
   "name": "python3"
  },
  "language_info": {
   "codemirror_mode": {
    "name": "ipython",
    "version": 3
   },
   "file_extension": ".py",
   "mimetype": "text/x-python",
   "name": "python",
   "nbconvert_exporter": "python",
   "pygments_lexer": "ipython3",
   "version": "3.10.13"
  }
 },
 "nbformat": 4,
 "nbformat_minor": 5
}
